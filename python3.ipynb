{
 "cells": [
  {
   "cell_type": "code",
   "execution_count": 1,
   "id": "f822a71e",
   "metadata": {},
   "outputs": [],
   "source": [
    "num1 = 5"
   ]
  },
  {
   "cell_type": "code",
   "execution_count": 2,
   "id": "be60d51a",
   "metadata": {},
   "outputs": [],
   "source": [
    "num1 *=2"
   ]
  },
  {
   "cell_type": "code",
   "execution_count": 3,
   "id": "82e7f8c5",
   "metadata": {},
   "outputs": [],
   "source": [
    "num1/=2"
   ]
  },
  {
   "cell_type": "code",
   "execution_count": 4,
   "id": "31d3ff3d",
   "metadata": {},
   "outputs": [],
   "source": [
    "num1*=20"
   ]
  },
  {
   "cell_type": "code",
   "execution_count": 5,
   "id": "206d6d79",
   "metadata": {},
   "outputs": [],
   "source": [
    "num1//=4"
   ]
  },
  {
   "cell_type": "code",
   "execution_count": 6,
   "id": "80170c8d",
   "metadata": {},
   "outputs": [],
   "source": [
    "num2 = num1"
   ]
  },
  {
   "cell_type": "code",
   "execution_count": 7,
   "id": "a0d32a4c",
   "metadata": {},
   "outputs": [],
   "source": [
    "del num1"
   ]
  },
  {
   "cell_type": "code",
   "execution_count": 8,
   "id": "3a21efd5",
   "metadata": {},
   "outputs": [
    {
     "ename": "NameError",
     "evalue": "name 'num1' is not defined",
     "output_type": "error",
     "traceback": [
      "\u001b[1;31m---------------------------------------------------------------------------\u001b[0m",
      "\u001b[1;31mNameError\u001b[0m                                 Traceback (most recent call last)",
      "\u001b[1;32m~\\AppData\\Local\\Temp\\ipykernel_8428\\3208322568.py\u001b[0m in \u001b[0;36m<module>\u001b[1;34m\u001b[0m\n\u001b[1;32m----> 1\u001b[1;33m \u001b[0mnum1\u001b[0m\u001b[1;33m\u001b[0m\u001b[1;33m\u001b[0m\u001b[0m\n\u001b[0m",
      "\u001b[1;31mNameError\u001b[0m: name 'num1' is not defined"
     ]
    }
   ],
   "source": [
    "num1"
   ]
  },
  {
   "cell_type": "code",
   "execution_count": 9,
   "id": "25ad254c",
   "metadata": {},
   "outputs": [
    {
     "data": {
      "text/plain": [
       "125.0"
      ]
     },
     "execution_count": 9,
     "metadata": {},
     "output_type": "execute_result"
    }
   ],
   "source": [
    "num2"
   ]
  },
  {
   "cell_type": "code",
   "execution_count": null,
   "id": "055ad29b",
   "metadata": {},
   "outputs": [],
   "source": []
  }
 ],
 "metadata": {
  "kernelspec": {
   "display_name": "Python 3 (ipykernel)",
   "language": "python",
   "name": "python3"
  },
  "language_info": {
   "codemirror_mode": {
    "name": "ipython",
    "version": 3
   },
   "file_extension": ".py",
   "mimetype": "text/x-python",
   "name": "python",
   "nbconvert_exporter": "python",
   "pygments_lexer": "ipython3",
   "version": "3.9.13"
  }
 },
 "nbformat": 4,
 "nbformat_minor": 5
}
